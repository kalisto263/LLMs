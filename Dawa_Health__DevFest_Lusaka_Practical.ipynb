{
  "nbformat": 4,
  "nbformat_minor": 0,
  "metadata": {
    "colab": {
      "provenance": []
    },
    "kernelspec": {
      "name": "python3",
      "display_name": "Python 3"
    },
    "language_info": {
      "name": "python"
    }
  },
  "cells": [
    {
      "cell_type": "markdown",
      "source": [
        "<!-- <a href=\"https://colab.research.google.com/drive/1jreqekFPmyaEH2ku58FrLI7MYfk34Uu4#scrollTo=lSZNitb4Yx1D\" target=\"_parent\"><img src=\"https://colab.research.google.com/assets/colab-badge.svg\" alt=\"Open In Colab\"/></a> -->\n"
      ],
      "metadata": {
        "id": "lSZNitb4Yx1D"
      }
    },
    {
      "cell_type": "markdown",
      "source": [
        "#Dawa Health| Devfest Lusaka 2025\n",
        "\n",
        "<img src=\"https://jacarandahealth.org/ypoagriw/2024/08/NIK3172-min-scaled.jpg\" width=\"60%\"/>\n",
        "\n",
        "\n",
        "<!-- To include imahe -->\n",
        "\n",
        "<!-- <a href=\"https://colab.research.google.com/drive/1jreqekFPmyaEH2ku58FrLI7MYfk34Uu4#scrollTo=lSZNitb4Yx1D\" target=\"_parent\"><img src=\"https://colab.research.google.com/assets/colab-badge.svg\" alt=\"Open In Colab\"/></a> -->\n",
        "\n",
        "[![Open In Colab](https://colab.research.google.com/assets/colab-badge.svg)](https://colab.research.google.com/drive/1jreqekFPmyaEH2ku58FrLI7MYfk34Uu4#scrollTo=wWcHOdJ8YN0v)\n",
        "\n",
        "\n",
        "© Dawa Health 2025.\n",
        "\n",
        "Apache License 2.0.\n",
        "\n",
        "**Authors:** Tafadzwa K. Munzwa, Tariro F. Munzwa\n",
        "\n",
        "**Reviewers:**\n",
        "\n",
        "**Title:** AI at the Frontlines: Practical Applications in Healthcare Delivery\n",
        "\n",
        "---\n",
        "\n",
        "**Introduction**\n",
        "\n",
        "In this lesson, we demonstrate how Artificial Intelligence can be applied to real-world healthcare challenges faced in low-resource settings.\n",
        "We’ll build a prototype conversational bot leveraging **UlizaLlama**, supporting English & Swahili (and potentially other languages). This bot can be used as a backend for WhatsApp messaging.\n",
        "\n",
        "**Topics**\n",
        "\n",
        "- Loading UlizaLlama  \n",
        "- Prompt design / wrapper  \n",
        "- Simple chat loop  \n",
        "- Safety / filtering logic  \n",
        "- (Discussion) WhatsApp integration\n",
        "\n",
        "**Discussion:** Deploying AI solutions in low-resource environments\n",
        "\n",
        "\n",
        "\n",
        "---\n",
        "\n",
        "\n",
        "**Content:** <font color='green'>`AI for Health`</font> , <font color='orange'>`Conversational System`</font> ,\n",
        "\n",
        "**Level:** <font color='grey'>`Beginner`</font>\n",
        "\n",
        "\n",
        "**Aims / Learning Objectives**\n",
        "\n",
        "By the end of this session, participants will be able to:\n",
        "\n",
        "1. Load and use UlizaLlama in Colab  \n",
        "2. Craft prompts / wrappers for health domain conversations  \n",
        "3. Add basic safety filters  \n",
        "4. Understand integration path to WhatsApp APIs  \n",
        "---\n",
        "\n",
        "**Prerequisites**\n",
        "\n",
        "- Python familiarity  \n",
        "- Basic knowledge of transformers / prompt engineering  \n",
        "- Curiosity about digital health innovation\n",
        "\n",
        "**Before you start:**\n",
        "\n",
        "Run the \"Installation and Imports\" cell.\n"
      ],
      "metadata": {
        "id": "wWcHOdJ8YN0v"
      }
    },
    {
      "cell_type": "markdown",
      "source": [
        "**🚀 Section 1 – Environment Setup**"
      ],
      "metadata": {
        "id": "af4Cc8k5koPt"
      }
    },
    {
      "cell_type": "code",
      "source": [
        "import sys\n",
        "required_version = (3, 11)\n",
        "current_version = sys.version_info[:2]\n",
        "if current_version != required_version:\n",
        "    print(f\"⚠️ Warning: Expected Python {required_version[0]}.{required_version[1]}, \"\n",
        "          f\"but running {current_version[0]}.{current_version[1]}.\")\n",
        "\n",
        "!pip install uv -q\n",
        "!uv pip install \\\n",
        "    transformers \\\n",
        "    accelerate \\\n",
        "    torch \\\n",
        "    langdetect \\\n",
        "    googletrans==4.0.0-rc1 -q\n",
        "\n",
        "from IPython.display import clear_output\n",
        "clear_output()\n",
        "print(\"✅ Dependencies installed\")\n"
      ],
      "metadata": {
        "id": "gBz7u8zaYnNd"
      },
      "execution_count": null,
      "outputs": []
    },
    {
      "cell_type": "markdown",
      "source": [
        "**💬 Section 2 – Load UlizaLlama model & tokenizer**"
      ],
      "metadata": {
        "id": "7EAL_8UNksdH"
      }
    },
    {
      "cell_type": "code",
      "source": [
        "from transformers import AutoTokenizer, AutoModelForCausalLM\n",
        "import torch\n",
        "\n",
        "model_name = \"Jacaranda/UlizaLlama\"\n",
        "tokenizer = AutoTokenizer.from_pretrained(model_name, trust_remote_code=True)\n",
        "model = AutoModelForCausalLM.from_pretrained(model_name, trust_remote_code=True, device_map=\"auto\")\n",
        "\n",
        "print(\"✅ UlizaLlama loaded\")\n"
      ],
      "metadata": {
        "id": "ewirGahneHtl"
      },
      "execution_count": null,
      "outputs": []
    },
    {
      "cell_type": "markdown",
      "source": [
        "🌍 **Section 3 - Basic Utility: detect language & translate**"
      ],
      "metadata": {
        "id": "veQvji-soJbr"
      }
    },
    {
      "cell_type": "code",
      "source": [
        "from langdetect import detect\n",
        "from googletrans import Translator\n",
        "translator = Translator()\n",
        "\n",
        "def maybe_translate_to_english(text):\n",
        "    src = detect(text)\n",
        "    if src != \"en\":\n",
        "        return translator.translate(text, src=\"auto\", dest=\"en\").text, src\n",
        "    return text, \"en\"\n",
        "\n",
        "def translate_back(text, target_lang):\n",
        "    if target_lang != \"en\":\n",
        "        return translator.translate(text, src=\"en\", dest=target_lang).text\n",
        "    return text\n",
        "\n"
      ],
      "metadata": {
        "id": "KWhCm3R9eQcX"
      },
      "execution_count": null,
      "outputs": []
    },
    {
      "cell_type": "markdown",
      "source": [
        "🤖 **Section 4 - Prompt / wrapper and safety**"
      ],
      "metadata": {
        "id": "TU-CieELocpX"
      }
    },
    {
      "cell_type": "code",
      "execution_count": null,
      "metadata": {
        "id": "8WiGh9pxWsIP"
      },
      "outputs": [],
      "source": [
        "# You may define a system / role prompt\n",
        "SYSTEM_PROMPT = (\n",
        "    \"You are a health assistant. You give general guidance, not medical diagnosis. \"\n",
        "    \"Always include disclaimers. Keep the user safe.\"\n",
        ")\n",
        "\n",
        "def make_prompt(user_input):\n",
        "    return (\n",
        "        f\"{SYSTEM_PROMPT}\\n\"\n",
        "        f\"User: {user_input}\\n\"\n",
        "        f\"Assistant:\"\n",
        "    )\n",
        "\n",
        "def generate_response(prompt, max_new_tokens=100):\n",
        "    inputs = tokenizer(prompt, return_tensors=\"pt\").to(model.device)\n",
        "    out = model.generate(**inputs,\n",
        "                         max_new_tokens=max_new_tokens,\n",
        "                         temperature=0.7,\n",
        "                         do_sample=True,\n",
        "                         top_p=0.9)\n",
        "    resp = tokenizer.decode(out[0][inputs[\"input_ids\"].shape[-1]:], skip_special_tokens=True)\n",
        "    return resp\n"
      ]
    },
    {
      "cell_type": "markdown",
      "source": [
        "🔁 **Section 5 - Chat loop for testing**"
      ],
      "metadata": {
        "id": "D_UNn-qlo2_w"
      }
    },
    {
      "cell_type": "code",
      "source": [
        "def health_chat():\n",
        "    print(\"💬 Uliza Health Bot prototype (type 'quit')\\n\")\n",
        "    while True:\n",
        "        user = input(\"You: \").strip()\n",
        "        if user.lower() in (\"quit\", \"exit\"):\n",
        "            break\n",
        "        # Optionally translate\n",
        "        text_en, src = maybe_translate_to_english(user)\n",
        "        prompt = make_prompt(text_en)\n",
        "        resp_en = generate_response(prompt)\n",
        "        # Translate back if needed\n",
        "        resp_out = translate_back(resp_en, src) if src != \"en\" else resp_en\n",
        "        print(f\"Bot ({src}): {resp_out}\\n\")\n",
        "\n",
        "health_chat()\n"
      ],
      "metadata": {
        "id": "86B3mVo1pLPX"
      },
      "execution_count": null,
      "outputs": []
    },
    {
      "cell_type": "markdown",
      "source": [
        "🗣️ **Section 6 - (Discussion) WhatsApp Integration & Deployment**\n",
        "\n",
        "- Use a Flask or FastAPI app that receives incoming WhatsApp messages (e.g. via Twilio or Meta Cloud API).\n",
        "\n",
        "- For each message:\n",
        "\n",
        "   1. Extract text\n",
        "   2. Optionally translate / cleanup\n",
        "   3. Call the LLM with your prompt wrapper\n",
        "   4. Filter or sanitize the response\n",
        "   5. Return the response as WhatsApp text\n",
        "\n",
        "- Add rate limiting, logging, fallback if the model fails\n",
        "\n",
        "\n",
        "---\n",
        "\n"
      ],
      "metadata": {
        "id": "w7Syw5YcpRQs"
      }
    },
    {
      "cell_type": "markdown",
      "source": [
        "🔐 **Section 7 - Safety, Testing & Fine-Tuning**\n",
        "\n",
        "Before production, fine-tune UlizaLlama on medical / maternal-health conversational data using LoRA (as recommended by the model card).\n",
        "Hugging Face\n",
        "\n",
        "Add response filters (e.g. detect hallucinations, out-of-scope content)\n",
        "\n",
        "Always include a disclaimer: “This is not a medical diagnosis; consult a licensed professional.”\n",
        "\n",
        "Test extensively with domain experts"
      ],
      "metadata": {
        "id": "XwTHQcEcqCDx"
      }
    }
  ]
}